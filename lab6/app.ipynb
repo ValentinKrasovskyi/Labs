{
 "cells": [
  {
   "cell_type": "code",
   "execution_count": 10,
   "metadata": {},
   "outputs": [],
   "source": [
    "import rasterio\n",
    "import geopandas as gpd\n",
    "from shapely.geometry import mapping\n",
    "import json\n",
    "\n",
    "\n",
    "clay_raster = rasterio.open('./soil_data/clay.tif')\n",
    "sand_raster = rasterio.open('./soil_data/sand.tif')\n",
    "density_raster = rasterio.open('./soil_data/density.tif')\n",
    "\n",
    "fields = gpd.read_file('./field_centroids.geojson')\n",
    "\n",
    "moisture_data = rasterio.open('../soil_moisture.tif')\n",
    "\n",
    "field_list = []\n",
    "\n",
    "for index, row in fields.iterrows():\n",
    "    field_id = row['id']\n",
    "    field_name = row['Name']\n",
    "    centroid = row['geometry'].centroid\n",
    "    lat, lon = centroid.y, centroid.x\n",
    "    row, col = clay_raster.index(lon, lat)\n",
    "\n",
    "    clay = clay_raster.read(1)[row, col]\n",
    "    sand = sand_raster.read(1)[row, col]\n",
    "    density = density_raster.read(1)[row, col]\n",
    "\n",
    "    row, col = sand_raster.index(lon, lat)\n",
    "\n",
    "    moisture = moisture_data.read(1)[row, col]\n",
    "\n",
    "    field_dict = {\n",
    "        'type': 'Feature',\n",
    "        'properties': {\n",
    "            'id': field_id,\n",
    "            'name': field_name,\n",
    "            'soil': {\n",
    "                'clay': float(clay),\n",
    "                'sand': float(sand),\n",
    "                'density': int(density)\n",
    "            },\n",
    "            'soil_moisture': int(moisture),\n",
    "            'coordinates': {\n",
    "                'lat': float(lat),\n",
    "                'lng': float(lon)\n",
    "            },\n",
    "            'geometry': mapping(centroid)\n",
    "        },\n",
    "    }\n",
    "\n",
    "    field_list.append(field_dict)\n",
    "\n",
    "with open('field_result.json', 'w', encoding='utf-8') as f:\n",
    "    json.dump(field_list, f, ensure_ascii=False, indent=4)\n"
   ]
  },
  {
   "attachments": {},
   "cell_type": "markdown",
   "metadata": {},
   "source": [
    "Натхнення брав тут - https://github.com/KharchenkoV/geo/tree/master/lab6"
   ]
  }
 ],
 "metadata": {
  "kernelspec": {
   "display_name": "venv",
   "language": "python",
   "name": "python3"
  },
  "language_info": {
   "codemirror_mode": {
    "name": "ipython",
    "version": 3
   },
   "file_extension": ".py",
   "mimetype": "text/x-python",
   "name": "python",
   "nbconvert_exporter": "python",
   "pygments_lexer": "ipython3",
   "version": "3.9.13"
  },
  "orig_nbformat": 4
 },
 "nbformat": 4,
 "nbformat_minor": 2
}
